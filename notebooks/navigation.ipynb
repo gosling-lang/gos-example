{
 "cells": [
  {
   "cell_type": "markdown",
   "id": "eeaad6e8",
   "metadata": {},
   "source": [
    "# Programatic navigation\n",
    "\n",
    "This notebook demonstrates programatic navigation of a Gosling visualization via Gos."
   ]
  },
  {
   "cell_type": "code",
   "execution_count": null,
   "id": "e612c340",
   "metadata": {},
   "outputs": [],
   "source": [
    "#! pip install gosling[all]==0.0.11\n",
    "import gosling as gos"
   ]
  },
  {
   "cell_type": "markdown",
   "id": "d99acb1a",
   "metadata": {},
   "source": [
    "We first create a simple bar visualization for a scATAC-seq \"pseudobulk\" track from [Corces et. al (Nature Genetics, 2020)](https://www.nature.com/articles/s41588-020-00721-x) multi-omic atlas of the human brain. This scATAC-seq track is stored in a separate BigWig file and represents the normalized aggregate signal for excitatory neuron cells."
   ]
  },
  {
   "cell_type": "code",
   "execution_count": null,
   "id": "12e3f5cf",
   "metadata": {},
   "outputs": [],
   "source": [
    "data = gos.bigwig(\n",
    "    url=\"https://s3.amazonaws.com/gosling-lang.org/data/ExcitatoryNeurons-insertions_bin100_RIPnorm.bw\",\n",
    "    column=\"position\",\n",
    "    value=\"peak\",\n",
    ")\n",
    "    \n",
    "track = gos.Track(data, width=700).mark_bar().encode(\n",
    "    x=gos.X(\"position:G\"),\n",
    "    y=gos.Y(\"peak:Q\", axis=\"right\"),\n",
    ")"
   ]
  },
  {
   "cell_type": "markdown",
   "id": "c6acf883",
   "metadata": {},
   "source": [
    "We can render the visualiztion in the notebook with the `track.view()` method. By default, the visualization is intialized to displays the _entire_ genome."
   ]
  },
  {
   "cell_type": "code",
   "execution_count": null,
   "id": "ac2d73e9",
   "metadata": {},
   "outputs": [],
   "source": [
    "track.view()"
   ]
  },
  {
   "cell_type": "markdown",
   "id": "1baf2d26",
   "metadata": {},
   "source": [
    "However, we are often interested in specific genomic _regions_, and navigating to those views manually can be cumbersome. Fortuately, the view location can be set using the `xDomain` via the Gosling grammar. \n",
    "\n",
    "With `gos`, we can create multiple _views_ of the same `track` easily."
   ]
  },
  {
   "cell_type": "code",
   "execution_count": null,
   "id": "b7c60e45",
   "metadata": {},
   "outputs": [],
   "source": [
    "track.view(\n",
    "    xDomain=gos.GenomicDomain(chromosome=\"chr13\") # show an entire chromosome\n",
    ")"
   ]
  },
  {
   "cell_type": "code",
   "execution_count": null,
   "id": "85aeaec6",
   "metadata": {},
   "outputs": [],
   "source": [
    "track.view(\n",
    "    xDomain=gos.GenomicDomain(chromosome=\"chr13\", interval=[31500000, 33150000]) # a specific interval\n",
    ")"
   ]
  },
  {
   "cell_type": "markdown",
   "id": "05a81455",
   "metadata": {},
   "source": [
    "The Gosling grammar only defines the initial view location. This default behavior is useful for experimenting with visual encodings for a dataset, but there is limited control from Python of the resulting viewer.\n",
    "\n",
    "An instance of `GoslingWidget` can be created for any Gos visualization by calling the `View.widget()` method. This returns a \"live\" viewer which can be interacted within Python."
   ]
  },
  {
   "cell_type": "code",
   "execution_count": null,
   "id": "ff074f81",
   "metadata": {},
   "outputs": [],
   "source": [
    "view = track.view(id=\"view0\") # necessary to keep track of this view\n",
    "widget = view.widget()\n",
    "widget"
   ]
  },
  {
   "cell_type": "markdown",
   "id": "6d8f51af",
   "metadata": {},
   "source": [
    "We can now call the `widget.zoom_to()` API to navigate the viewer from Python!"
   ]
  },
  {
   "cell_type": "code",
   "execution_count": null,
   "id": "99bddd1d",
   "metadata": {},
   "outputs": [],
   "source": [
    "widget.zoom_to(view.id, \"chr17\") # zoom our view to a particular chromosome"
   ]
  },
  {
   "cell_type": "markdown",
   "id": "7855cff1",
   "metadata": {},
   "source": [
    "Or combine our `widget` with other Jupyter widgets to create an interactive GUI."
   ]
  },
  {
   "cell_type": "code",
   "execution_count": null,
   "id": "e847a231",
   "metadata": {},
   "outputs": [],
   "source": [
    "import ipywidgets \n",
    "\n",
    "# A dropdown to navigate the viewer to particular genomic regions\n",
    "dropdown = ipywidgets.Dropdown(\n",
    "    options=[\n",
    "        (\"TP53\", \"chr17:7668421-7687490\"),\n",
    "        (\"TNF\", \"chr6:31575565-31578336\"),\n",
    "    ],\n",
    "    description='Gene:',\n",
    ")\n",
    "\n",
    "dropdown.observe(lambda c: widget.zoom_to(view.id, c.new) if c.type == 'change' and c.name == 'value' else None)\n",
    "\n",
    "ipywidgets.VBox([dropdown, widget])"
   ]
  },
  {
   "cell_type": "code",
   "execution_count": null,
   "id": "1b928510",
   "metadata": {},
   "outputs": [],
   "source": []
  },
  {
   "cell_type": "code",
   "execution_count": null,
   "id": "b5fd5d82",
   "metadata": {},
   "outputs": [],
   "source": []
  }
 ],
 "metadata": {
  "kernelspec": {
   "display_name": "Python 3 (ipykernel)",
   "language": "python",
   "name": "python3"
  },
  "language_info": {
   "codemirror_mode": {
    "name": "ipython",
    "version": 3
   },
   "file_extension": ".py",
   "mimetype": "text/x-python",
   "name": "python",
   "nbconvert_exporter": "python",
   "pygments_lexer": "ipython3",
   "version": "3.10.4"
  }
 },
 "nbformat": 4,
 "nbformat_minor": 5
}

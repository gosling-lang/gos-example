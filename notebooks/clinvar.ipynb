{
 "cells": [
  {
   "cell_type": "markdown",
   "id": "5cb4b669",
   "metadata": {},
   "source": [
    "# Clinical Variant Explorer \n",
    "\n",
    "In this notebook, we will create a custom visualization to view human genetic variants from the [ClinVar database](https://www.ncbi.nlm.nih.gov/clinvar/) genome-wide. "
   ]
  },
  {
   "cell_type": "code",
   "execution_count": null,
   "id": "a679ff37",
   "metadata": {},
   "outputs": [],
   "source": [
    "#! pip install gosling[all]==0.0.8\n",
    "import gosling as gos"
   ]
  },
  {
   "cell_type": "markdown",
   "id": "330c154a",
   "metadata": {},
   "source": [
    "## Load gene annotation track\n",
    "\n",
    "In `gos`, a _Track_ is a composable element which may be combined with other tracks to create more sophisticated visualizations. \n",
    "\n",
    "The `./tracks.py` file relative to this notebook contains a predefined track which displays gene annotation information for the `hg38` assembly. It is fully specified in `gos`, and can be imported just like any Python module."
   ]
  },
  {
   "cell_type": "code",
   "execution_count": null,
   "id": "bfbedbda",
   "metadata": {},
   "outputs": [],
   "source": [
    "import sys\n",
    "import os\n",
    "\n",
    "if 'google.colab' in sys.modules:\n",
    "    # make sure `./tracks.py` from GitHub repo is available if in Colab\n",
    "    os.system('curl -s https://raw.githubusercontent.com/gosling-lang/gos-example/main/notebooks/tracks.py -o tracks.py')"
   ]
  },
  {
   "cell_type": "code",
   "execution_count": null,
   "id": "2468f73f",
   "metadata": {
    "scrolled": true
   },
   "outputs": [],
   "source": [
    "import tracks # import the ./tracks.py module\n",
    "\n",
    "# print(tracks.gene_annotation_track()) # print the literal definition\n",
    "tracks.gene_annotation_track()"
   ]
  },
  {
   "cell_type": "code",
   "execution_count": null,
   "id": "1e2ad4f5",
   "metadata": {
    "scrolled": true
   },
   "outputs": [],
   "source": [
    "# Set initial domain to chromosome 17\n",
    "tracks.gene_annotation_track().properties(\n",
    "    xDomain=gos.GenomicDomain(chromosome=\"chr17\")\n",
    ")"
   ]
  },
  {
   "cell_type": "markdown",
   "id": "1fbf2768",
   "metadata": {},
   "source": [
    "We will combine this track with our custom variant visualization to provide context when navigating the viewer."
   ]
  },
  {
   "cell_type": "markdown",
   "id": "80552dd4",
   "metadata": {},
   "source": [
    "## Create the variant track\n",
    "\n",
    "The data sources for this section are derived from the VCF at:\n",
    "\n",
    "- https://ftp.ncbi.nlm.nih.gov/pub/clinvar/vcf_GRCh38/clinvar.vcf.gz\n",
    "\n",
    "The full preprocessing workflow can be run via `snakemake` at the root of this repository, but we provide preprocessed versions of the datasets at your convenience. Comments in the notebook will highlight where to replace URLs if you are interested in running these steps on your own. The two derived ClinVar datasets are:\n",
    "\n",
    "- `clinvar.bed.beddb` - the individual variants and classifications in multires bed-like format\n",
    "\n",
    "- `density.multires.mv5` - a precomputed, multiresolution aggregation of variant classifications genome-wide\n",
    "\n",
    "Our dataset includes sevaral categories of clinical relevance, and we make a mapping of each category to a color for our visualization."
   ]
  },
  {
   "cell_type": "code",
   "execution_count": null,
   "id": "0c138cea",
   "metadata": {},
   "outputs": [],
   "source": [
    "categories = [\n",
    "    \"Benign\", \n",
    "    \"Benign/Likely_benign\", \n",
    "    \"Likely_benign\", \n",
    "    \"Uncertain_significance\",\n",
    "    \"Likely_pathogenic\", \n",
    "    \"Pathogenic/Likely_pathogenic\",\n",
    "    \"Pathogenic\",\n",
    "]\n",
    "\n",
    "colors = [\"#5A9F8C\", \"#5A9F8C\", \"#029F73\", \"gray\", \"#CB96B3\", \"#CB71A3\", \"#CB3B8C\"]"
   ]
  },
  {
   "cell_type": "markdown",
   "id": "7b0e743b",
   "metadata": {},
   "source": [
    "For the visualization, we will use an advanced feature of Gosling called [**semantic zooming**](http://gosling-lang.org/docs/semantic-zoom/) which allows users to dynamically switch between visual representations upon zooming in and out.\n",
    "\n",
    "\n",
    "### 1.) Lolipop represenation of individual variants\n",
    "\n",
    "First we encode the individual variants using a lolipop representation, which layers `bar` and `point` marks."
   ]
  },
  {
   "cell_type": "code",
   "execution_count": null,
   "id": "3ef2a70a",
   "metadata": {
    "scrolled": true
   },
   "outputs": [],
   "source": [
    "# define our data source \n",
    "variants = gos.beddb(\n",
    "    url=\"https://server.gosling-lang.org/api/v1/tileset_info/?d=clinvar-beddb\",\n",
    "    # Alternatively, the BEDDB file can be greated locally via Snakemake. See README.md for details.\n",
    "    # url=\"../data/agg/clinvar.bed.beddb\", \n",
    "    genomicFields=[{\"index\": 1, \"name\": \"start\"}, {\"index\": 2, \"name\": \"end\"}],\n",
    "    valueFields=[{\"index\": 7, \"name\": \"significance\", \"type\": \"nominal\"}],\n",
    ")\n",
    "\n",
    "# some constants\n",
    "lollipop_height = 200\n",
    "dy = lollipop_height / len(categories) / 2\n",
    "\n",
    "strips = gos.Track(variants).mark_bar().encode(\n",
    "    x=\"start:G\",\n",
    "    y=gos.Y(\n",
    "        \"significance:N\",\n",
    "        domain=categories,\n",
    "        range=[lollipop_height + dy, dy],\n",
    "        baseline=\"Uncertain_significance\",\n",
    "    ),\n",
    "    ye=gos.value(lollipop_height/2),\n",
    "    size=gos.value(1),\n",
    "    color=gos.value(\"lightgray\"),\n",
    "    stroke=gos.value(\"lightgray\"),\n",
    "    strokeWidth=gos.value(1),\n",
    "    opacity=gos.value(0.3),\n",
    ").transform_filter('significance', oneOf=categories).properties(height=lollipop_height)\n",
    "\n",
    "# just the \"handles\" of the lolipop\n",
    "strips.view()"
   ]
  },
  {
   "cell_type": "code",
   "execution_count": null,
   "id": "051477e7",
   "metadata": {
    "scrolled": true
   },
   "outputs": [],
   "source": [
    "# just the \"tops\" of the lolipop\n",
    "points = gos.Track(variants).mark_point().encode(\n",
    "    x=\"start:G\",\n",
    "    color=gos.Color(\"significance:N\", domain=categories, range=colors),\n",
    "    row=gos.Row(\"significance:N\", domain=categories),\n",
    "    size=gos.value(7),\n",
    "    opacity=gos.value(0.8),\n",
    ").properties(height=lollipop_height)\n",
    "\n",
    "points.view()"
   ]
  },
  {
   "cell_type": "code",
   "execution_count": null,
   "id": "be7bd66b",
   "metadata": {},
   "outputs": [],
   "source": [
    "# combined\n",
    "gos.overlay(strips, points)"
   ]
  },
  {
   "cell_type": "markdown",
   "id": "451ab527",
   "metadata": {},
   "source": [
    "### 2.) Density representation of variant classifications\n",
    "\n",
    "Next we use a `bar` encoding to display the multiresolution aggregate density of each variant classification."
   ]
  },
  {
   "cell_type": "code",
   "execution_count": null,
   "id": "2cbf8879",
   "metadata": {},
   "outputs": [],
   "source": [
    "density = gos.multivec(\n",
    "    url=\"https://server.gosling-lang.org/api/v1/tileset_info/?d=clinvar-multivec\",\n",
    "    # Alternatively, the multivec file can be greated locally via Snakemake. See README.md for details.\n",
    "    # url=\"../data/agg/density.multires.mv5\",\n",
    "    row=\"significance\",\n",
    "    column=\"position\",\n",
    "    value=\"count\",\n",
    "    categories=categories,\n",
    "    binSize=4,\n",
    ")\n",
    "\n",
    "bars = gos.Track(density).mark_bar().encode(\n",
    "    x=\"start:G\",\n",
    "    xe=\"end:G\",\n",
    "    y=gos.Y(\"count:Q\", axis=\"none\"),\n",
    "    color=gos.Color(\"significance:N\", domain=categories, range=colors, legend=True)\n",
    ")\n",
    "\n",
    "bars.view().properties(xDomain=gos.GenomicDomain(chromosome=\"chr17\"))"
   ]
  },
  {
   "cell_type": "markdown",
   "id": "090b9e35",
   "metadata": {},
   "source": [
    "## Combined semantic zoom track\n",
    "\n",
    "Now that we have defined our visualizations in isolation, we can combine them into a single view that switches the visual enocoding when zooming. We the semantic zoom properties with `visibility_lt` and `visibility_gt` options."
   ]
  },
  {
   "cell_type": "code",
   "execution_count": null,
   "id": "2625018b",
   "metadata": {},
   "outputs": [],
   "source": [
    "lolipop = gos.overlay(\n",
    "    strips.visibility_lt(\n",
    "        measure=\"zoomLevel\",\n",
    "        target=\"mark\",\n",
    "        threshold=100000,\n",
    "        transitionPadding=100000,\n",
    "    ),\n",
    "    points.visibility_lt(\n",
    "        measure=\"zoomLevel\",\n",
    "        target=\"mark\",\n",
    "        threshold=1000000,\n",
    "        transitionPadding=1000000,\n",
    "    ),\n",
    "    bars.visibility_gt(\n",
    "        measure=\"zoomLevel\",\n",
    "        target=\"mark\",\n",
    "        threshold=500000,\n",
    "        transitionPadding=500000,\n",
    "    )\n",
    ")\n",
    "lolipop.properties(\n",
    "    xDomain=gos.GenomicDomain(chromosome=\"17\"),\n",
    ")"
   ]
  },
  {
   "cell_type": "markdown",
   "id": "6fa3329a",
   "metadata": {},
   "source": [
    "# Final visualization\n",
    "\n",
    "Finally we can add the gene annotation track with our custom lolipop visualization for the final exploratory viewer."
   ]
  },
  {
   "cell_type": "code",
   "execution_count": null,
   "id": "f1cd6c29",
   "metadata": {},
   "outputs": [],
   "source": [
    "view = gos.stack(\n",
    "    tracks.gene_annotation_track().properties(id=\"view1\", height=95, width=725),\n",
    "    lolipop,\n",
    ").properties(\n",
    "    id=\"view1\",\n",
    "    xDomain=gos.GenomicDomain(chromosome=\"13\", interval=[31500000, 33150000]),\n",
    ")\n",
    "\n",
    "view"
   ]
  },
  {
   "cell_type": "markdown",
   "id": "00f118b0",
   "metadata": {},
   "source": [
    "# Controlling the viewer from Python with `ipywidgets`\n",
    "\n",
    "A Gosling visualization only defines the initial view location for the visualization which is rendered automatically in the notebook. This default behavior is useful for experimenting with visual encodings for a dataset, but there is limited control from Python of the resulting viewer. \n",
    "\n",
    "In `gos` rendering a visualization is completely decoupled from the core Python API, allowing alternative renders to be configured for other use cases. We create a Jupyter Widget ([`gosling-widget`](https://github.com/gosling-lang/gosling-widget)) which allows the viewer itself to be controlled within Python.\n",
    "\n",
    "An instance of `GoslingWidget` can be created for any Gos visualization by calling the `.widget()` method. This returns a \"live\" viewer which can be interacted within Python."
   ]
  },
  {
   "cell_type": "code",
   "execution_count": null,
   "id": "de6d9e14",
   "metadata": {},
   "outputs": [],
   "source": [
    "widget = view.widget()\n",
    "widget"
   ]
  },
  {
   "cell_type": "markdown",
   "id": "6eaadf69",
   "metadata": {},
   "source": [
    "We can now call the `widget.zoom_to()` API to navigate the viewer from Python!"
   ]
  },
  {
   "cell_type": "code",
   "execution_count": null,
   "id": "4fd68a0d",
   "metadata": {},
   "outputs": [],
   "source": [
    "widget.zoom_to(view.id, \"chr17\") # zoom our view to a particular chromosome"
   ]
  },
  {
   "cell_type": "code",
   "execution_count": null,
   "id": "176bafaf",
   "metadata": {},
   "outputs": [],
   "source": [
    "import ipywidgets \n",
    "\n",
    "# A dropdown to navigate the viewer to particular genomic regions\n",
    "dropdown = ipywidgets.Dropdown(\n",
    "    options=[\n",
    "        (\"TP53\", \"chr17:7668421-7687490\"),\n",
    "        (\"TNF\", \"chr6:31575565-31578336\"),\n",
    "    ],\n",
    "    description='Gene:',\n",
    ")\n",
    "\n",
    "dropdown.observe(lambda c: widget.zoom_to(view.id, c.new) if c.type == 'change' and c.name == 'value' else None)\n",
    "\n",
    "ipywidgets.VBox([dropdown, widget])"
   ]
  },
  {
   "cell_type": "code",
   "execution_count": null,
   "id": "dd0ab87e",
   "metadata": {},
   "outputs": [],
   "source": []
  }
 ],
 "metadata": {
  "kernelspec": {
   "display_name": "Python 3 (ipykernel)",
   "language": "python",
   "name": "python3"
  },
  "language_info": {
   "codemirror_mode": {
    "name": "ipython",
    "version": 3
   },
   "file_extension": ".py",
   "mimetype": "text/x-python",
   "name": "python",
   "nbconvert_exporter": "python",
   "pygments_lexer": "ipython3",
   "version": "3.9.12"
  }
 },
 "nbformat": 4,
 "nbformat_minor": 5
}

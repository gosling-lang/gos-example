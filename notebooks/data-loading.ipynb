{
 "cells": [
  {
   "cell_type": "code",
   "execution_count": null,
   "id": "68352e24",
   "metadata": {},
   "outputs": [],
   "source": [
    "#!pip install gosling==0.0.8\n",
    "import gosling as gos"
   ]
  },
  {
   "cell_type": "markdown",
   "id": "ebb17f53",
   "metadata": {},
   "source": [
    "# Loading data with `gos`\n",
    "\n",
    "This notebook illustrates a key (optional) feature of `gos` which makes hosting data for your Gosling visualizations a breeze. \n",
    "\n",
    "Normally a Gosling visualization requires the administration of a web-server to host both the client and genomics data sets for the visualization. In `gos`, we provide further integration with Python to hide this complexity and allow remote, local, and in-memory data to be visualized seamlessly through an idential API.\n",
    "\n",
    "In this notebook, we will visualize the same [BED file](https://samtools.github.io/hts-specs/BEDv1.pdf) containing h38 cytoband information as a: \n",
    "\n",
    "- remote dataset (via URL) \n",
    "- local dataset (via local path)\n",
    "- in memory (from a `pd.DataFrame`)\n",
    "\n",
    "\n",
    "## The visualization\n",
    "\n",
    "The `ideogram` function generates an ideogram visualization for a given Gosling data source. It is not important that you understand the details of this block to follow along in this notebook. Moreover, the important bit is to understand that `ideogram` takes `data` as input and returns a Gosling visualization created with the `gos` API.\n",
    "\n",
    "We will show how this function can be _reused_ for various `data` defintions (genomic data sources)."
   ]
  },
  {
   "cell_type": "code",
   "execution_count": null,
   "id": "90d1f40d",
   "metadata": {},
   "outputs": [],
   "source": [
    "def ideogram(data):\n",
    "    track = gos.Track(data) # bind data to track\n",
    "    \n",
    "    arms = track.mark_rect().encode(\n",
    "        color=gos.Color(\"stain:N\",\n",
    "            domain=[\"gneg\", \"gpos25\", \"gpos50\", \"gpos75\", \"gpos100\", \"gvar\"],\n",
    "            range=[\"white\", \"#D9D9D9\", \"#979797\", \"#636363\", \"black\", \"#A0A0F2\"],\n",
    "        ),\n",
    "        x=gos.X(\"chromStart:G\", axis=\"none\"),\n",
    "        xe=\"chromEnd:G\",\n",
    "        stroke=gos.value(\"black\"),\n",
    "        strokeWidth=gos.value(0.5),\n",
    "    ).transform_filter_not(\n",
    "        field=\"stain\",\n",
    "        oneOf=[\"acen\"],\n",
    "    )\n",
    "\n",
    "    labels = track.mark_text().encode(\n",
    "        text=\"name:N\",\n",
    "        color=gos.Color(\"stain:N\",\n",
    "            domain=[\"gneg\", \"gpos25\", \"gpos50\", \"gpos75\", \"gpos100\", \"gvar\"],\n",
    "            range=[\"black\", \"#636363\", \"black\", \"#D9D9D9\", \"white\", \"black\"],\n",
    "        ),\n",
    "        strokeWidth=gos.value(0)\n",
    "    ).visibility_lt(\n",
    "        target='mark',\n",
    "        measure='width',\n",
    "        threshold='|xe-x|',\n",
    "        transitionPadding=10\n",
    "    )\n",
    "\n",
    "    centromere = track.encode(\n",
    "        x=gos.X(\"chromStart:G\"),\n",
    "        xe=\"chromEnd:G\",\n",
    "        color=gos.value('red'),\n",
    "    ).transform_filter(\n",
    "        \"stain\", oneOf=[\"acen\"]\n",
    "    )\n",
    "\n",
    "    centromere_left = centromere.mark_triangleLeft().transform_filter(\n",
    "        \"name\", include=\"p\"\n",
    "    )\n",
    "\n",
    "    centromere_right = centromere.mark_triangleRight().transform_filter(\n",
    "        \"name\", include=\"q\"\n",
    "    )\n",
    "\n",
    "    return gos.overlay(arms, labels, centromere_left, centromere_right).properties(height=20)\n"
   ]
  },
  {
   "cell_type": "markdown",
   "id": "a516f77c",
   "metadata": {},
   "source": [
    "## The dataset\n",
    "\n",
    "The `url` below links to a [BED4+1](https://samtools.github.io/hts-specs/BEDv1.pdf) file containing UCSC hg38 cytoband information. This dataset is hosted on GitHub and is avaiable via URL. "
   ]
  },
  {
   "cell_type": "code",
   "execution_count": null,
   "id": "94529f08",
   "metadata": {},
   "outputs": [],
   "source": [
    "url = \"https://raw.githubusercontent.com/manzt/gemini-datasets/master/data/UCSC.HG38.Human.CytoBandIdeogram.bed\"\n",
    "\n",
    "# preview the file contents\n",
    "!curl -s {url}  | head | column -t\n",
    "# chrom  chromStart  chromEnd  name  stain"
   ]
  },
  {
   "cell_type": "markdown",
   "id": "a104e561",
   "metadata": {},
   "source": [
    "## Remote dataset (via URL)\n",
    "\n",
    "We can reference this URL directly in Gos by creating a CSV data source via `gos.csv(...)`. This function returns a Python dictionary that describes our dataset to Gosling. We use the `gos.csv` utility since the resource is a columnar text dataset."
   ]
  },
  {
   "cell_type": "code",
   "execution_count": null,
   "id": "3477c7bd",
   "metadata": {
    "scrolled": true
   },
   "outputs": [],
   "source": [
    "# specify BED4+1 format\n",
    "data = gos.csv(\n",
    "    url=url,\n",
    "    headerNames=['chrom', 'chromStart', 'chromEnd', 'name', 'stain'], # the +1 field is stain\n",
    "    chromosomeField=\"chrom\", # the column containing chrom names\n",
    "    genomicFields=[\"chromStart\", \"chromEnd\"], # fields with genomic coordinates\n",
    "    separator=\"\\t\",\n",
    ")\n",
    "\n",
    "data"
   ]
  },
  {
   "cell_type": "markdown",
   "id": "e9301b85",
   "metadata": {},
   "source": [
    "We can now pass this dataset directly to the `ideogram` function which binds `data` to `gos.Track` and creates our custom visualization."
   ]
  },
  {
   "cell_type": "code",
   "execution_count": null,
   "id": "0e622cca",
   "metadata": {},
   "outputs": [],
   "source": [
    "ideogram(data)"
   ]
  },
  {
   "cell_type": "markdown",
   "id": "6f7d9ce1",
   "metadata": {},
   "source": [
    "This visualization is a bit crowded since we are viewing the data genome-wide. We can set the initial genomic domain for the visualization to Chromosome 2 by specifying `xDomain` as a property."
   ]
  },
  {
   "cell_type": "code",
   "execution_count": null,
   "id": "c791dd43",
   "metadata": {},
   "outputs": [],
   "source": [
    "ideogram(data).properties(xDomain=gos.GenomicDomain(chromosome=\"chr2\"))"
   ]
  },
  {
   "cell_type": "markdown",
   "id": "c732ad57",
   "metadata": {},
   "source": [
    "## Local Dataset (via local filepath)\n",
    "\n",
    "Data are not always publically available via URL like above, and often we'd like to visualize local data files. To visualize local data, **simply change the URL to a local file path**.\n",
    "\n",
    "```diff\n",
    "data = gos.csv(\n",
    "-  url=url,\n",
    "+  url=\"./UCSC.HG38.Human.CytoBandIdeogram.bed\",\n",
    "   ... \n",
    ")\n",
    "```\n",
    "\n",
    "Below we download the file from GitHub and load the visualization from our local filesytem."
   ]
  },
  {
   "cell_type": "code",
   "execution_count": null,
   "id": "3ba3ef6a",
   "metadata": {},
   "outputs": [],
   "source": [
    "!curl {url} -o UCSC.HG38.Human.CytoBandIdeogram.bed # download file"
   ]
  },
  {
   "cell_type": "code",
   "execution_count": null,
   "id": "f5f56c5c",
   "metadata": {},
   "outputs": [],
   "source": [
    "!cat UCSC.HG38.Human.CytoBandIdeogram.bed | head | column -t # print local file contents"
   ]
  },
  {
   "cell_type": "code",
   "execution_count": null,
   "id": "384b0262",
   "metadata": {},
   "outputs": [],
   "source": [
    "data = gos.csv(\n",
    "    url=\"./UCSC.HG38.Human.CytoBandIdeogram.bed\",\n",
    "    # url=url\n",
    "    headerNames=['chrom', 'chromStart', 'chromEnd', 'name', 'stain'],\n",
    "    chromosomeField=\"chrom\",\n",
    "    genomicFields=[\"chromStart\", \"chromEnd\"],\n",
    "    separator=\"\\t\",\n",
    ")\n",
    "\n",
    "# reuse the same visualization\n",
    "ideogram(data).properties(xDomain=gos.GenomicDomain(chromosome=\"chr2\"))"
   ]
  },
  {
   "cell_type": "markdown",
   "id": "4e6054a8",
   "metadata": {},
   "source": [
    "## In memory (via `pd.DataFrame`)\n",
    "\n",
    "While loading remote and local genomics data files is useful, often we want to visualize intermediate or derived information during analysis. Rather than writing these results to disk, `gos` supports visualizing in-memory data directly from Pandas dataframes `pd.DataFrame`.\n",
    "\n",
    "In order to use this feature, we first load our dataset as a `pd.DataFrame`."
   ]
  },
  {
   "cell_type": "code",
   "execution_count": null,
   "id": "96d65129",
   "metadata": {},
   "outputs": [],
   "source": [
    "import pandas as pd\n",
    "\n",
    "df = pd.read_csv(\n",
    "    './UCSC.HG38.Human.CytoBandIdeogram.bed', \n",
    "    names=['chrom', 'chromStart', 'chromEnd', 'name', 'stain'],\n",
    "    sep=\"\\t\"\n",
    ")\n",
    "\n",
    "df.head()"
   ]
  },
  {
   "cell_type": "markdown",
   "id": "bbd9f197",
   "metadata": {},
   "source": [
    "Lets filter `df` in Python for our dataset only contains entries for Chromosome 2."
   ]
  },
  {
   "cell_type": "code",
   "execution_count": null,
   "id": "8cb3f460",
   "metadata": {},
   "outputs": [],
   "source": [
    "df = df[df.chrom == \"chr2\"]\n",
    "df.head()"
   ]
  },
  {
   "cell_type": "markdown",
   "id": "a1e5fb9e",
   "metadata": {},
   "source": [
    "We can now create a `data` source for our visualization using the `df.gos.csv(...)` method, and visualize directly! Note how the resulting visualization only renders for chromosome 2."
   ]
  },
  {
   "cell_type": "code",
   "execution_count": null,
   "id": "1d37cad5",
   "metadata": {},
   "outputs": [],
   "source": [
    "data = df.gos.csv(\n",
    "    # we only need to specify these fields since the rest are inferred from dataframe\n",
    "    chromosomeField=\"chrom\",\n",
    "    genomicFields=[\"chromStart\", \"chromEnd\"], \n",
    ")\n",
    "\n",
    "ideogram(data) # view in context of full assembly"
   ]
  },
  {
   "cell_type": "code",
   "execution_count": null,
   "id": "61cfcffe",
   "metadata": {},
   "outputs": [],
   "source": [
    "ideogram(data).properties(xDomain=gos.GenomicDomain(chromosome=\"chr2\")) # view just chrom 2"
   ]
  },
  {
   "cell_type": "markdown",
   "id": "694c5554",
   "metadata": {},
   "source": [
    "We hope that you found this tutorial useful in getting started with `gos`! \n",
    "\n",
    "You can read more about [Gosling](http://gosling-lang.org/) to learn about exciting grammar features which are avaialbe in **gos** and also check out the **gos** [documenation](https://gosling-lang.github.io/gos/gallery/index.html) for more complex examples."
   ]
  }
 ],
 "metadata": {
  "kernelspec": {
   "display_name": "Python 3 (ipykernel)",
   "language": "python",
   "name": "python3"
  },
  "language_info": {
   "codemirror_mode": {
    "name": "ipython",
    "version": 3
   },
   "file_extension": ".py",
   "mimetype": "text/x-python",
   "name": "python",
   "nbconvert_exporter": "python",
   "pygments_lexer": "ipython3",
   "version": "3.9.12"
  }
 },
 "nbformat": 4,
 "nbformat_minor": 5
}

{
 "cells": [
  {
   "cell_type": "markdown",
   "id": "5cb4b669",
   "metadata": {},
   "source": [
    "# **`gos`** by example\n",
    "\n",
    "This notebook demonstrates the core features of `gos`:\n",
    "\n",
    "- Author declarative genomics visualizations which adhere to the [Gosling](http://gosling-lang.org/) JSON Specification \n",
    "- Render visualizations directly in notebook\n",
    "- Combine local, remote, and in-memory genomics data sources in visualizations\n",
    "- Control a Gosling visualization from Python\n",
    "\n",
    "Start by importing `gosling`. It is a convention to import as `gos` and then access the API through this namespace. "
   ]
  },
  {
   "cell_type": "code",
   "execution_count": 1,
   "id": "5df40d9a",
   "metadata": {},
   "outputs": [],
   "source": [
    "import gosling as gos"
   ]
  },
  {
   "cell_type": "markdown",
   "id": "33e48339",
   "metadata": {},
   "source": [
    "## Creating a `gos.Track`\n",
    "\n",
    "**`gos`** exposes two fundemental building-blocks for genomics visualizatinos provided by the Gosling grammar:\n",
    "\n",
    "- `gos.Track`\n",
    "- `gos.View`\n",
    "\n",
    "A _Track_ is the core component of a genomics visualization that defines explict **transformations** and **mappings** of genomics data to **visual properties**. A _Track_ ay be composed with other _Tracks_ or **grouped** into a _View_ that share the same linked genomic domain.\n",
    "\n",
    "Every _Track_ therefore binds a data source. In `gos` we define an abstract genomic data source and bind it to a _Track_. We will start by loading a CSV containing UCSC hg38 cytoband information"
   ]
  },
  {
   "cell_type": "code",
   "execution_count": 11,
   "id": "f662f717",
   "metadata": {
    "scrolled": true
   },
   "outputs": [
    {
     "data": {
      "text/plain": [
       "Track({\n",
       "  data: {'type': 'csv', 'url': 'https://raw.githubusercontent.com/sehilyi/gemini-datasets/master/data/UCSC.HG38.Human.CytoBandIdeogram.csv', 'chromosomeField': 'Chromosome', 'genomicFields': ['chromStart', 'chromEnd']},\n",
       "  height: 180,\n",
       "  mark: 'bar',\n",
       "  width: 800\n",
       "})"
      ]
     },
     "execution_count": 11,
     "metadata": {},
     "output_type": "execute_result"
    }
   ],
   "source": [
    "csv_url = \"https://raw.githubusercontent.com/sehilyi/gemini-datasets/master/data/UCSC.HG38.Human.CytoBandIdeogram.csv\"\n",
    "\n",
    "# define the dataset\n",
    "data = gos.csv(\n",
    "    url=csv_url,\n",
    "    chromosomeField=\"Chromosome\",\n",
    "    genomicFields=[\"chromStart\", \"chromEnd\"],\n",
    ")\n",
    "\n",
    "# bind the data to a track\n",
    "gos.Track(data)"
   ]
  },
  {
   "cell_type": "markdown",
   "id": "11344a81",
   "metadata": {},
   "source": [
    "The _Track_ above is bound to the genomics data, but we haven't declared how to map and transform these data to visual properties. For this, we will use the `gos.Track.mark_*()` and `gos.Track.encode()` method to declare which visual encoding to use and how to map and transform these data to this encoding. "
   ]
  },
  {
   "cell_type": "code",
   "execution_count": 12,
   "id": "24f9fc5f",
   "metadata": {},
   "outputs": [
    {
     "data": {
      "text/plain": [
       "Track({\n",
       "  color: Color({\n",
       "    domain: ['gneg', 'gpos25', 'gpos50', 'gpos75', 'gpos100', 'gvar'],\n",
       "    range: ['white', '#D9D9D9', '#979797', '#636363', 'black', '#A0A0F2'],\n",
       "    shorthand: 'Stain:N'\n",
       "  }),\n",
       "  data: {'type': 'csv', 'url': 'https://raw.githubusercontent.com/sehilyi/gemini-datasets/master/data/UCSC.HG38.Human.CytoBandIdeogram.csv', 'chromosomeField': 'Chromosome', 'genomicFields': ['chromStart', 'chromEnd']},\n",
       "  height: 180,\n",
       "  mark: 'rect',\n",
       "  size: SizeValue({\n",
       "    value: 20\n",
       "  }),\n",
       "  stroke: StrokeValue({\n",
       "    value: 'gray'\n",
       "  }),\n",
       "  strokeWidth: StrokeWidthValue({\n",
       "    value: 0.5\n",
       "  }),\n",
       "  width: 800,\n",
       "  x: X({\n",
       "    axis: 'top',\n",
       "    shorthand: 'chromStart:G'\n",
       "  }),\n",
       "  xe: Xe({\n",
       "    shorthand: 'chromEnd:G'\n",
       "  })\n",
       "})"
      ]
     },
     "execution_count": 12,
     "metadata": {},
     "output_type": "execute_result"
    }
   ],
   "source": [
    "track = gos.Track(data).mark_rect().encode(\n",
    "    # defines start and end of rectangle mark\n",
    "    x=gos.X(\"chromStart:G\", axis=\"top\"),\n",
    "    xe=gos.Xe(\"chromEnd:G\"),\n",
    "    # defines how to map values in \"Stain\" column to colors\n",
    "    color=gos.Color(\n",
    "        \"Stain:N\", \n",
    "        domain=[\"gneg\", \"gpos25\", \"gpos50\", \"gpos75\", \"gpos100\", \"gvar\"],\n",
    "        range=[\"white\", \"#D9D9D9\", \"#979797\", \"#636363\", \"black\", \"#A0A0F2\"]\n",
    "    ),\n",
    "    # customize the style of the visual marks. \n",
    "    size=gos.value(20),\n",
    "    stroke=gos.value(\"gray\"),\n",
    "    strokeWidth=gos.value(0.5)\n",
    ")\n",
    "track"
   ]
  },
  {
   "cell_type": "markdown",
   "id": "87d21d66",
   "metadata": {},
   "source": [
    "Our `gos.Track` now is fully specified, however, the Gosling grammar defines the root of every visualization as a _View_, which may contain one or more _Tracks_. Therefore in order to complete a Gosling specification for the track in isolation, we use the `gos.Track.view()` method to cast the track within a `gos.View`. In Jupyter or Google Colab, the visualization will automatically be rendered in the cell below rather than printing a Python object like above."
   ]
  },
  {
   "cell_type": "code",
   "execution_count": 13,
   "id": "3c67f1c4",
   "metadata": {
    "scrolled": true
   },
   "outputs": [
    {
     "data": {
      "text/html": [
       "\n",
       "<!DOCTYPE html>\n",
       "<html>\n",
       "<head>\n",
       "  <style>.error { color: red; }</style>\n",
       "  <link rel=\"stylesheet\" href=\"https://unpkg.com/higlass@1.11/dist/hglib.css\">\n",
       "</head>\n",
       "<body>\n",
       "  <div id=\"jupyter-gosling-fed51c62c1f844f694a098182dfd97a1\"></div>\n",
       "  <script type=\"module\">\n",
       "\n",
       "    async function loadScript(src) {\n",
       "        return new Promise(resolve => {\n",
       "            const script = document.createElement('script');\n",
       "            script.onload = resolve;\n",
       "            script.src = src;\n",
       "            script.async = false;\n",
       "            document.head.appendChild(script);\n",
       "        });\n",
       "    }\n",
       "\n",
       "    async function loadGosling() {\n",
       "        // Manually load scripts from window namespace since requirejs might not be\n",
       "        // available in all browser environments.\n",
       "\n",
       "        // https://github.com/DanielHreben/requirejs-toggle\n",
       "        if (!window.gosling) {\n",
       "\n",
       "            // https://github.com/DanielHreben/requirejs-toggle\n",
       "            window.__requirejsToggleBackup = {\n",
       "                define: window.define,\n",
       "                require: window.require,\n",
       "                requirejs: window.requirejs,\n",
       "            };\n",
       "\n",
       "            for (const field of Object.keys(window.__requirejsToggleBackup)) {\n",
       "                window[field] = undefined;\n",
       "            }\n",
       "\n",
       "            // load dependencies sequentially\n",
       "            const sources = [\n",
       "                \"https://unpkg.com/react@17/umd/react.production.min.js\",\n",
       "                \"https://unpkg.com/react-dom@17/umd/react-dom.production.min.js\",\n",
       "                \"https://unpkg.com/pixi.js@6/dist/browser/pixi.min.js\",\n",
       "                \"https://unpkg.com/higlass@1.11/dist/hglib.js\",\n",
       "                \"https://unpkg.com/gosling.js@0.9.18/dist/gosling.js\",\n",
       "            ];\n",
       "\n",
       "            for (const src of sources) await loadScript(src);\n",
       "\n",
       "            // restore requirejs after scripts have loaded\n",
       "            Object.assign(window, window.__requirejsToggleBackup);\n",
       "            delete window.__requirejsToggleBackup;\n",
       "\n",
       "        }\n",
       "\n",
       "        return window.gosling;\n",
       "    };\n",
       "\n",
       "    var el = document.getElementById('jupyter-gosling-fed51c62c1f844f694a098182dfd97a1');\n",
       "    var spec = {\"tracks\": [{\"data\": {\"type\": \"csv\", \"url\": \"https://raw.githubusercontent.com/sehilyi/gemini-datasets/master/data/UCSC.HG38.Human.CytoBandIdeogram.csv\", \"chromosomeField\": \"Chromosome\", \"genomicFields\": [\"chromStart\", \"chromEnd\"]}, \"height\": 180, \"mark\": \"rect\", \"width\": 800, \"color\": {\"domain\": [\"gneg\", \"gpos25\", \"gpos50\", \"gpos75\", \"gpos100\", \"gvar\"], \"field\": \"Stain\", \"range\": [\"white\", \"#D9D9D9\", \"#979797\", \"#636363\", \"black\", \"#A0A0F2\"], \"type\": \"nominal\"}, \"size\": {\"value\": 20}, \"stroke\": {\"value\": \"gray\"}, \"strokeWidth\": {\"value\": 0.5}, \"x\": {\"axis\": \"top\", \"field\": \"chromStart\", \"type\": \"genomic\"}, \"xe\": {\"field\": \"chromEnd\", \"type\": \"genomic\"}}]};\n",
       "    var opt = {\"padding\": 0, \"theme\": null};\n",
       "\n",
       "    loadGosling()\n",
       "        .then(gosling => gosling.embed(el, spec, opt))\n",
       "        .catch(err => {\n",
       "            el.innerHTML = `<div class=\"error\">\n",
       "    <p>JavaScript Error: ${error.message}</p>\n",
       "    <p>This usually means there's a typo in your Gosling specification. See the javascript console for the full traceback.</p>\n",
       "</div>`;\n",
       "            throw error;\n",
       "        });\n",
       "  </script>\n",
       "</body>\n",
       "</html>"
      ],
      "text/plain": [
       "View({\n",
       "  tracks: [Track({\n",
       "    color: Color({\n",
       "      domain: ['gneg', 'gpos25', 'gpos50', 'gpos75', 'gpos100', 'gvar'],\n",
       "      field: 'Stain',\n",
       "      range: ['white', '#D9D9D9', '#979797', '#636363', 'black', '#A0A0F2'],\n",
       "      type: 'nominal'\n",
       "    }),\n",
       "    data: {'type': 'csv', 'url': 'https://raw.githubusercontent.com/sehilyi/gemini-datasets/master/data/UCSC.HG38.Human.CytoBandIdeogram.csv', 'chromosomeField': 'Chromosome', 'genomicFields': ['chromStart', 'chromEnd']},\n",
       "    height: 180,\n",
       "    mark: 'rect',\n",
       "    size: SizeValue({\n",
       "      value: 20\n",
       "    }),\n",
       "    stroke: StrokeValue({\n",
       "      value: 'gray'\n",
       "    }),\n",
       "    strokeWidth: StrokeWidthValue({\n",
       "      value: 0.5\n",
       "    }),\n",
       "    width: 800,\n",
       "    x: X({\n",
       "      axis: 'top',\n",
       "      field: 'chromStart',\n",
       "      type: 'genomic'\n",
       "    }),\n",
       "    xe: Xe({\n",
       "      field: 'chromEnd',\n",
       "      type: 'genomic'\n",
       "    })\n",
       "  })]\n",
       "})"
      ]
     },
     "execution_count": 13,
     "metadata": {},
     "output_type": "execute_result"
    }
   ],
   "source": [
    "track.view() # visualization rendered belows"
   ]
  },
  {
   "cell_type": "markdown",
   "id": "f9e4ab3c",
   "metadata": {},
   "source": [
    "Additional parameters for the `gos.View` can be passed in as well for convenience. We can easily set a `title` and `xDomain` for our _View_, initializing the visualization to display \"chr1\". \n",
    "\n",
    "> Notice how we reuse the `track` instance to create new, modified views. This is a common pattern in **`gos`**."
   ]
  },
  {
   "cell_type": "code",
   "execution_count": 14,
   "id": "5ece39d5",
   "metadata": {},
   "outputs": [
    {
     "data": {
      "text/html": [
       "\n",
       "<!DOCTYPE html>\n",
       "<html>\n",
       "<head>\n",
       "  <style>.error { color: red; }</style>\n",
       "  <link rel=\"stylesheet\" href=\"https://unpkg.com/higlass@1.11/dist/hglib.css\">\n",
       "</head>\n",
       "<body>\n",
       "  <div id=\"jupyter-gosling-36c6cfddc0014533a4b102024a7aa6b5\"></div>\n",
       "  <script type=\"module\">\n",
       "\n",
       "    async function loadScript(src) {\n",
       "        return new Promise(resolve => {\n",
       "            const script = document.createElement('script');\n",
       "            script.onload = resolve;\n",
       "            script.src = src;\n",
       "            script.async = false;\n",
       "            document.head.appendChild(script);\n",
       "        });\n",
       "    }\n",
       "\n",
       "    async function loadGosling() {\n",
       "        // Manually load scripts from window namespace since requirejs might not be\n",
       "        // available in all browser environments.\n",
       "\n",
       "        // https://github.com/DanielHreben/requirejs-toggle\n",
       "        if (!window.gosling) {\n",
       "\n",
       "            // https://github.com/DanielHreben/requirejs-toggle\n",
       "            window.__requirejsToggleBackup = {\n",
       "                define: window.define,\n",
       "                require: window.require,\n",
       "                requirejs: window.requirejs,\n",
       "            };\n",
       "\n",
       "            for (const field of Object.keys(window.__requirejsToggleBackup)) {\n",
       "                window[field] = undefined;\n",
       "            }\n",
       "\n",
       "            // load dependencies sequentially\n",
       "            const sources = [\n",
       "                \"https://unpkg.com/react@17/umd/react.production.min.js\",\n",
       "                \"https://unpkg.com/react-dom@17/umd/react-dom.production.min.js\",\n",
       "                \"https://unpkg.com/pixi.js@6/dist/browser/pixi.min.js\",\n",
       "                \"https://unpkg.com/higlass@1.11/dist/hglib.js\",\n",
       "                \"https://unpkg.com/gosling.js@0.9.18/dist/gosling.js\",\n",
       "            ];\n",
       "\n",
       "            for (const src of sources) await loadScript(src);\n",
       "\n",
       "            // restore requirejs after scripts have loaded\n",
       "            Object.assign(window, window.__requirejsToggleBackup);\n",
       "            delete window.__requirejsToggleBackup;\n",
       "\n",
       "        }\n",
       "\n",
       "        return window.gosling;\n",
       "    };\n",
       "\n",
       "    var el = document.getElementById('jupyter-gosling-36c6cfddc0014533a4b102024a7aa6b5');\n",
       "    var spec = {\"tracks\": [{\"data\": {\"type\": \"csv\", \"url\": \"https://raw.githubusercontent.com/sehilyi/gemini-datasets/master/data/UCSC.HG38.Human.CytoBandIdeogram.csv\", \"chromosomeField\": \"Chromosome\", \"genomicFields\": [\"chromStart\", \"chromEnd\"]}, \"height\": 180, \"mark\": \"rect\", \"width\": 800, \"color\": {\"domain\": [\"gneg\", \"gpos25\", \"gpos50\", \"gpos75\", \"gpos100\", \"gvar\"], \"field\": \"Stain\", \"range\": [\"white\", \"#D9D9D9\", \"#979797\", \"#636363\", \"black\", \"#A0A0F2\"], \"type\": \"nominal\"}, \"size\": {\"value\": 20}, \"stroke\": {\"value\": \"gray\"}, \"strokeWidth\": {\"value\": 0.5}, \"x\": {\"axis\": \"top\", \"field\": \"chromStart\", \"type\": \"genomic\"}, \"xe\": {\"field\": \"chromEnd\", \"type\": \"genomic\"}}], \"title\": \"Gos is awesome!\", \"xDomain\": {\"chromosome\": \"chr1\"}};\n",
       "    var opt = {\"padding\": 0, \"theme\": null};\n",
       "\n",
       "    loadGosling()\n",
       "        .then(gosling => gosling.embed(el, spec, opt))\n",
       "        .catch(err => {\n",
       "            el.innerHTML = `<div class=\"error\">\n",
       "    <p>JavaScript Error: ${error.message}</p>\n",
       "    <p>This usually means there's a typo in your Gosling specification. See the javascript console for the full traceback.</p>\n",
       "</div>`;\n",
       "            throw error;\n",
       "        });\n",
       "  </script>\n",
       "</body>\n",
       "</html>"
      ],
      "text/plain": [
       "View({\n",
       "  title: 'Gos is awesome!',\n",
       "  tracks: [Track({\n",
       "    color: Color({\n",
       "      domain: ['gneg', 'gpos25', 'gpos50', 'gpos75', 'gpos100', 'gvar'],\n",
       "      field: 'Stain',\n",
       "      range: ['white', '#D9D9D9', '#979797', '#636363', 'black', '#A0A0F2'],\n",
       "      type: 'nominal'\n",
       "    }),\n",
       "    data: {'type': 'csv', 'url': 'https://raw.githubusercontent.com/sehilyi/gemini-datasets/master/data/UCSC.HG38.Human.CytoBandIdeogram.csv', 'chromosomeField': 'Chromosome', 'genomicFields': ['chromStart', 'chromEnd']},\n",
       "    height: 180,\n",
       "    mark: 'rect',\n",
       "    size: SizeValue({\n",
       "      value: 20\n",
       "    }),\n",
       "    stroke: StrokeValue({\n",
       "      value: 'gray'\n",
       "    }),\n",
       "    strokeWidth: StrokeWidthValue({\n",
       "      value: 0.5\n",
       "    }),\n",
       "    width: 800,\n",
       "    x: X({\n",
       "      axis: 'top',\n",
       "      field: 'chromStart',\n",
       "      type: 'genomic'\n",
       "    }),\n",
       "    xe: Xe({\n",
       "      field: 'chromEnd',\n",
       "      type: 'genomic'\n",
       "    })\n",
       "  })],\n",
       "  xDomain: GenomicDomain({\n",
       "    chromosome: 'chr1'\n",
       "  })\n",
       "})"
      ]
     },
     "execution_count": 14,
     "metadata": {},
     "output_type": "execute_result"
    }
   ],
   "source": [
    "track.view(\n",
    "    title=\"Gos is awesome!\",\n",
    "    xDomain=gos.GenomicDomain(chromosome=\"chr1\"),\n",
    ")"
   ]
  },
  {
   "cell_type": "code",
   "execution_count": null,
   "id": "fcde7258",
   "metadata": {},
   "outputs": [],
   "source": []
  }
 ],
 "metadata": {
  "kernelspec": {
   "display_name": "Python 3 (ipykernel)",
   "language": "python",
   "name": "python3"
  },
  "language_info": {
   "codemirror_mode": {
    "name": "ipython",
    "version": 3
   },
   "file_extension": ".py",
   "mimetype": "text/x-python",
   "name": "python",
   "nbconvert_exporter": "python",
   "pygments_lexer": "ipython3",
   "version": "3.9.12"
  }
 },
 "nbformat": 4,
 "nbformat_minor": 5
}

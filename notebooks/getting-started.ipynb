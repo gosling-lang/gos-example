{
 "cells": [
  {
   "cell_type": "markdown",
   "id": "5cb4b669",
   "metadata": {},
   "source": [
    "# Getting started with `gos`\n",
    "\n",
    "This notebook demonstrates the core features of `gos`:\n",
    "\n",
    "- Authoring declarative genomics visualizations which adhere to the [Gosling](http://gosling-lang.org/) JSON Specification\n",
    "\n",
    "- Displaying Gosling visualizations directly in notebook\n",
    "\n",
    "\n",
    "Start by importing `gosling`."
   ]
  },
  {
   "cell_type": "code",
   "execution_count": null,
   "id": "5df40d9a",
   "metadata": {},
   "outputs": [],
   "source": [
    "# !pip install gosling==0.0.8\n",
    "import gosling as gos"
   ]
  },
  {
   "cell_type": "markdown",
   "id": "610da5bd",
   "metadata": {},
   "source": [
    "> **NOTE** it is a convention to import as `gos` and then access the API through this namespace. "
   ]
  },
  {
   "cell_type": "markdown",
   "id": "33e48339",
   "metadata": {},
   "source": [
    "## Creating a `gos.Track`\n",
    "\n",
    "**`gos`** exposes two fundemental building-blocks for genomics visualizatinos provided by the Gosling grammar:\n",
    "\n",
    "- `gos.Track`\n",
    "- `gos.View`\n",
    "\n",
    "A _Track_ is the core component of a genomics visualization that defines explict **transformations** and **mappings** of genomics data to **visual properties**. A _Track_ ay be composed with other _Tracks_ or **grouped** into a _View_ that share the same linked genomic domain. \n",
    "\n",
    "The figure below depicts the heirarchical structure of a Gosling visualization, displaying **3** distict _Views_ (light orange/blue/green) which individually are composed of several _Tracks_.\n",
    "\n",
    "<img src=\"tracks-views.jpeg\" width=\"600\">\n",
    "\n",
    "A _Track_ (dark orange/blue/green) is the base primative for building genomics visualizations and requires binding a data source. In `gos` we define an abstract genomic data source and bind it to a _Track_ directly through the Python API. \n",
    "\n",
    "We will start by loading a CSV containing UCSC hg38 cytoband information"
   ]
  },
  {
   "cell_type": "code",
   "execution_count": null,
   "id": "f662f717",
   "metadata": {},
   "outputs": [],
   "source": [
    "data_url = \"https://raw.githubusercontent.com/sehilyi/gemini-datasets/master/data/UCSC.HG38.Human.CytoBandIdeogram.bed\"\n",
    "\n",
    "# The dataset is a BED4+1 file which can be read in Gosling as the CSV datatype\n",
    "data = gos.csv(\n",
    "    url=data_url,\n",
    "    headerNames=['chrom', 'chromStart', 'chromEnd', 'name', 'stain'], # the +1 field is stain\n",
    "    chromosomeField=\"chrom\", # the column containing chrom names\n",
    "    genomicFields=[\"chromStart\", \"chromEnd\"], # fields with genomic coordinates\n",
    "    separator=\"\\t\",\n",
    ")\n",
    "\n",
    "# bind the data to a track\n",
    "gos.Track(data)"
   ]
  },
  {
   "cell_type": "markdown",
   "id": "11344a81",
   "metadata": {},
   "source": [
    "The _Track_ above is now bound to the genomics data, but we haven't declared how to map the dataset to visual properties. For this, we will use the `gos.Track.mark_*()` and `gos.Track.encode()` methods to specify a **mark** and what **visual encodings** to apply."
   ]
  },
  {
   "cell_type": "code",
   "execution_count": null,
   "id": "24f9fc5f",
   "metadata": {},
   "outputs": [],
   "source": [
    "track = gos.Track(data).mark_rect().encode(\n",
    "    # defines start and end of rectangle mark\n",
    "    x=gos.X(\"chromStart:G\", axis=\"top\"),\n",
    "    xe=gos.Xe(\"chromEnd:G\"),\n",
    "    # defines how to map Giemsa-stain factor to colors\n",
    "    color=gos.Color(\n",
    "        \"stain:N\", \n",
    "        domain=[\"gneg\", \"gpos25\", \"gpos50\", \"gpos75\", \"gpos100\", \"gvar\"],\n",
    "        range=[\"white\", \"#D9D9D9\", \"#979797\", \"#636363\", \"black\", \"#A0A0F2\"]\n",
    "    ),\n",
    "    # customize the style of the visual marks. \n",
    "    size=gos.value(20),\n",
    "    stroke=gos.value(\"gray\"),\n",
    "    strokeWidth=gos.value(0.5)\n",
    ")\n",
    "\n",
    "track"
   ]
  },
  {
   "cell_type": "markdown",
   "id": "87d21d66",
   "metadata": {},
   "source": [
    "Our `gos.Track` now is fully specified, however, the Gosling grammar requires the root of every visualization as a _View_, which may contain one or more _Tracks_. \n",
    "\n",
    "In order to complete a Gosling specification for the track in isolation, we use the `gos.Track.view()` method to cast the track within a `gos.View`. In Jupyter or Google Colab, the visualization is automatically rendered in the cell below rather than printing a Python object like above."
   ]
  },
  {
   "cell_type": "code",
   "execution_count": null,
   "id": "3c67f1c4",
   "metadata": {},
   "outputs": [],
   "source": [
    "track.view() # voila!"
   ]
  },
  {
   "cell_type": "markdown",
   "id": "f9e4ab3c",
   "metadata": {},
   "source": [
    "Additional parameters for the resulting `gos.View` can be passed in as well for convenience. We can easily set a `title` and `xDomain` for our visualization, initializing the initial genomic region to display \"chr1\". "
   ]
  },
  {
   "cell_type": "code",
   "execution_count": null,
   "id": "5ece39d5",
   "metadata": {},
   "outputs": [],
   "source": [
    "track.view(\n",
    "    title=\"Gos is awesome!\",\n",
    "    xDomain=gos.GenomicDomain(chromosome=\"chr1\"),\n",
    ")"
   ]
  },
  {
   "cell_type": "markdown",
   "id": "525c3fe2",
   "metadata": {},
   "source": [
    "> **NOTE** how we reuse the `track` instance to create new, modified views. This is a very common pattern in **`gos`** and what makes the Python API much more concise than the JSON equivalent."
   ]
  },
  {
   "cell_type": "markdown",
   "id": "7f5d586c",
   "metadata": {},
   "source": [
    "## Arranging Tracks into Views\n",
    "\n",
    "Tracks are arranged can be arraged as separate views via the `gos.horizontal` and `gos.vertical` layout utilites. Here we reuse track defintion about to into a multiview layout. "
   ]
  },
  {
   "cell_type": "code",
   "execution_count": null,
   "id": "2ce24da1",
   "metadata": {},
   "outputs": [],
   "source": [
    "gos.horizontal(\n",
    "    # right, vertically stacked tracks\n",
    "    gos.vertical(\n",
    "        track.encode().properties(width=300, height=100),\n",
    "        track.properties(width=300, height=100)\n",
    "    ),\n",
    "    # left, new track with alternative colormapping\n",
    "    track.encode(\n",
    "        color=gos.Color(\n",
    "            \"stain:N\", \n",
    "            domain=[\"gneg\", \"gpos25\", \"gpos50\", \"gpos75\", \"gpos100\", \"gvar\"],\n",
    "            range=[\"white\", \"#D9D9D9\", \"#979797\", \"#636363\", \"black\", \"#FF8F00\"] # change gvar to orange\n",
    "        ),\n",
    "    ).properties(width=600, height=240)\n",
    ")"
   ]
  },
  {
   "cell_type": "markdown",
   "id": "66487111",
   "metadata": {},
   "source": [
    "This visualization above is not very useful or informative, but moreover it is meant to introduce how features of the Gos API compose together to create sophisticated interactive genomics visualizations. \n",
    "\n",
    "You can read more about [Gosling](http://gosling-lang.org/) to learn about exciting grammar features which are avaialbe in **gos** and also check out the **gos** [documenation](https://gosling-lang.github.io/gos/gallery/index.html) for more complex examples."
   ]
  }
 ],
 "metadata": {
  "kernelspec": {
   "display_name": "Python 3 (ipykernel)",
   "language": "python",
   "name": "python3"
  },
  "language_info": {
   "codemirror_mode": {
    "name": "ipython",
    "version": 3
   },
   "file_extension": ".py",
   "mimetype": "text/x-python",
   "name": "python",
   "nbconvert_exporter": "python",
   "pygments_lexer": "ipython3",
   "version": "3.9.12"
  }
 },
 "nbformat": 4,
 "nbformat_minor": 5
}
